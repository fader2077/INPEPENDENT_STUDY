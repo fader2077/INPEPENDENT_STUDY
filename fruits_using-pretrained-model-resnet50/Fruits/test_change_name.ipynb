{
 "cells": [
  {
   "cell_type": "code",
   "execution_count": 60,
   "metadata": {},
   "outputs": [
    {
     "name": "stdout",
     "output_type": "stream",
     "text": [
      "106\n",
      "['banana.1.jpg', 'banana.10.jpg', 'banana.100.jpg', 'banana.101.jpg', 'banana.102.jpg']\n",
      "['banana.95.jpg', 'banana.96.jpg', 'banana.97.jpg', 'banana.98.jpg', 'banana.99.jpg']\n",
      "['./test/banana\\\\banana.1.jpg', './test/banana\\\\banana.10.jpg', './test/banana\\\\banana.100.jpg', './test/banana\\\\banana.101.jpg', './test/banana\\\\banana.102.jpg', './test/banana\\\\banana.103.jpg', './test/banana\\\\banana.104.jpg', './test/banana\\\\banana.105.jpg', './test/banana\\\\banana.106.jpg', './test/banana\\\\banana.11.jpg', './test/banana\\\\banana.12.jpg', './test/banana\\\\banana.13.jpg', './test/banana\\\\banana.14.jpg', './test/banana\\\\banana.15.jpg', './test/banana\\\\banana.16.jpg', './test/banana\\\\banana.17.jpg', './test/banana\\\\banana.18.jpg', './test/banana\\\\banana.19.jpg', './test/banana\\\\banana.2.jpg', './test/banana\\\\banana.20.jpg', './test/banana\\\\banana.21.jpg', './test/banana\\\\banana.22.jpg', './test/banana\\\\banana.23.jpg', './test/banana\\\\banana.24.jpg', './test/banana\\\\banana.25.jpg', './test/banana\\\\banana.26.jpg', './test/banana\\\\banana.27.jpg', './test/banana\\\\banana.28.jpg', './test/banana\\\\banana.29.jpg', './test/banana\\\\banana.3.jpg', './test/banana\\\\banana.30.jpg', './test/banana\\\\banana.31.jpg', './test/banana\\\\banana.32.jpg', './test/banana\\\\banana.33.jpg', './test/banana\\\\banana.34.jpg', './test/banana\\\\banana.35.jpg', './test/banana\\\\banana.36.jpg', './test/banana\\\\banana.37.jpg', './test/banana\\\\banana.38.jpg', './test/banana\\\\banana.39.jpg', './test/banana\\\\banana.4.jpg', './test/banana\\\\banana.40.jpg', './test/banana\\\\banana.41.jpg', './test/banana\\\\banana.42.jpg', './test/banana\\\\banana.43.jpg', './test/banana\\\\banana.44.jpg', './test/banana\\\\banana.45.jpg', './test/banana\\\\banana.46.jpg', './test/banana\\\\banana.47.jpg', './test/banana\\\\banana.48.jpg', './test/banana\\\\banana.49.jpg', './test/banana\\\\banana.5.jpg', './test/banana\\\\banana.50.jpg', './test/banana\\\\banana.51.jpg', './test/banana\\\\banana.52.jpg', './test/banana\\\\banana.53.jpg', './test/banana\\\\banana.54.jpg', './test/banana\\\\banana.55.jpg', './test/banana\\\\banana.56.jpg', './test/banana\\\\banana.57.jpg', './test/banana\\\\banana.58.jpg', './test/banana\\\\banana.59.jpg', './test/banana\\\\banana.6.jpg', './test/banana\\\\banana.60.jpg', './test/banana\\\\banana.61.jpg', './test/banana\\\\banana.62.jpg', './test/banana\\\\banana.63.jpg', './test/banana\\\\banana.64.jpg', './test/banana\\\\banana.65.jpg', './test/banana\\\\banana.66.jpg', './test/banana\\\\banana.67.jpg', './test/banana\\\\banana.68.jpg', './test/banana\\\\banana.69.jpg', './test/banana\\\\banana.7.jpg', './test/banana\\\\banana.70.jpg', './test/banana\\\\banana.71.jpg', './test/banana\\\\banana.72.jpg', './test/banana\\\\banana.73.jpg', './test/banana\\\\banana.74.jpg', './test/banana\\\\banana.75.jpg', './test/banana\\\\banana.76.jpg', './test/banana\\\\banana.77.jpg', './test/banana\\\\banana.78.jpg', './test/banana\\\\banana.79.jpg', './test/banana\\\\banana.8.jpg', './test/banana\\\\banana.80.jpg', './test/banana\\\\banana.81.jpg', './test/banana\\\\banana.82.jpg', './test/banana\\\\banana.83.jpg', './test/banana\\\\banana.84.jpg', './test/banana\\\\banana.85.jpg', './test/banana\\\\banana.86.jpg', './test/banana\\\\banana.87.jpg', './test/banana\\\\banana.88.jpg', './test/banana\\\\banana.89.jpg', './test/banana\\\\banana.9.jpg', './test/banana\\\\banana.90.jpg', './test/banana\\\\banana.91.jpg', './test/banana\\\\banana.92.jpg', './test/banana\\\\banana.93.jpg', './test/banana\\\\banana.94.jpg', './test/banana\\\\banana.95.jpg', './test/banana\\\\banana.96.jpg', './test/banana\\\\banana.97.jpg', './test/banana\\\\banana.98.jpg', './test/banana\\\\banana.99.jpg']\n"
     ]
    },
    {
     "ename": "FileExistsError",
     "evalue": "[WinError 183] 當檔案已存在時，無法建立該檔案。: './test/banana\\\\banana.10.jpg' -> './test/banana/banana.2.jpg'",
     "output_type": "error",
     "traceback": [
      "\u001b[1;31m---------------------------------------------------------------------------\u001b[0m",
      "\u001b[1;31mFileExistsError\u001b[0m                           Traceback (most recent call last)",
      "Cell \u001b[1;32mIn[60], line 12\u001b[0m\n\u001b[0;32m     10\u001b[0m n \u001b[39m=\u001b[39m \u001b[39m1\u001b[39m          \u001b[39m# 設定名稱從 1 開始\u001b[39;00m\n\u001b[0;32m     11\u001b[0m \u001b[39mfor\u001b[39;00m i \u001b[39min\u001b[39;00m images:\n\u001b[1;32m---> 12\u001b[0m     os\u001b[39m.\u001b[39;49mrename(i, \u001b[39mf\u001b[39;49m\u001b[39m'\u001b[39;49m\u001b[39m./test/banana/banana.\u001b[39;49m\u001b[39m{\u001b[39;49;00mn\u001b[39m}\u001b[39;49;00m\u001b[39m.jpg\u001b[39;49m\u001b[39m'\u001b[39;49m)   \u001b[39m# 改名時，使用字串格式化的方式進行三位數補零\u001b[39;00m\n\u001b[0;32m     13\u001b[0m     n \u001b[39m=\u001b[39m n \u001b[39m+\u001b[39m \u001b[39m1\u001b[39m    \u001b[39m# 每次重複時將 n 增加 \u001b[39;00m\n",
      "\u001b[1;31mFileExistsError\u001b[0m: [WinError 183] 當檔案已存在時，無法建立該檔案。: './test/banana\\\\banana.10.jpg' -> './test/banana/banana.2.jpg'"
     ]
    }
   ],
   "source": [
    "import os\n",
    "import glob\n",
    "data_dir = './test/banana/'\n",
    "all_img = sorted(os.listdir(data_dir))\n",
    "print(len(all_img))\n",
    "print(all_img[:5])\n",
    "print(all_img[-5:])\n",
    "images = glob.glob('./test/banana/*')\n",
    "print(images)\n",
    "n = 1          # 設定名稱從 1 開始\n",
    "for i in images:\n",
    "    os.rename(i, f'./test/banana/banana.{n}.jpg')   # 改名時，使用字串格式化的方式進行三位數補零\n",
    "    n = n + 1    # 每次重複時將 n 增加 "
   ]
  },
  {
   "cell_type": "code",
   "execution_count": 61,
   "metadata": {},
   "outputs": [
    {
     "name": "stdout",
     "output_type": "stream",
     "text": [
      "89\n",
      "['apple.1.jpg', 'apple.10.jpg', 'apple.11.jpg', 'apple.12.jpg', 'apple.13.jpg']\n",
      "['apple.86.jpg', 'apple.87.jpg', 'apple.88.jpg', 'apple.89.jpg', 'apple.9.jpg']\n",
      "['./test/apple\\\\apple.1.jpg', './test/apple\\\\apple.10.jpg', './test/apple\\\\apple.11.jpg', './test/apple\\\\apple.12.jpg', './test/apple\\\\apple.13.jpg', './test/apple\\\\apple.14.jpg', './test/apple\\\\apple.15.jpg', './test/apple\\\\apple.16.jpg', './test/apple\\\\apple.17.jpg', './test/apple\\\\apple.18.jpg', './test/apple\\\\apple.19.jpg', './test/apple\\\\apple.2.jpg', './test/apple\\\\apple.20.jpg', './test/apple\\\\apple.21.jpg', './test/apple\\\\apple.22.jpg', './test/apple\\\\apple.23.jpg', './test/apple\\\\apple.24.jpg', './test/apple\\\\apple.25.jpg', './test/apple\\\\apple.26.jpg', './test/apple\\\\apple.27.jpg', './test/apple\\\\apple.28.jpg', './test/apple\\\\apple.29.jpg', './test/apple\\\\apple.3.jpg', './test/apple\\\\apple.30.jpg', './test/apple\\\\apple.31.jpg', './test/apple\\\\apple.32.jpg', './test/apple\\\\apple.33.jpg', './test/apple\\\\apple.34.jpg', './test/apple\\\\apple.35.jpg', './test/apple\\\\apple.36.jpg', './test/apple\\\\apple.37.jpg', './test/apple\\\\apple.38.jpg', './test/apple\\\\apple.39.jpg', './test/apple\\\\apple.4.jpg', './test/apple\\\\apple.40.jpg', './test/apple\\\\apple.41.jpg', './test/apple\\\\apple.42.jpg', './test/apple\\\\apple.43.jpg', './test/apple\\\\apple.44.jpg', './test/apple\\\\apple.45.jpg', './test/apple\\\\apple.46.jpg', './test/apple\\\\apple.47.jpg', './test/apple\\\\apple.48.jpg', './test/apple\\\\apple.49.jpg', './test/apple\\\\apple.5.jpg', './test/apple\\\\apple.50.jpg', './test/apple\\\\apple.51.jpg', './test/apple\\\\apple.52.jpg', './test/apple\\\\apple.53.jpg', './test/apple\\\\apple.54.jpg', './test/apple\\\\apple.55.jpg', './test/apple\\\\apple.56.jpg', './test/apple\\\\apple.57.jpg', './test/apple\\\\apple.58.jpg', './test/apple\\\\apple.59.jpg', './test/apple\\\\apple.6.jpg', './test/apple\\\\apple.60.jpg', './test/apple\\\\apple.61.jpg', './test/apple\\\\apple.62.jpg', './test/apple\\\\apple.63.jpg', './test/apple\\\\apple.64.jpg', './test/apple\\\\apple.65.jpg', './test/apple\\\\apple.66.jpg', './test/apple\\\\apple.67.jpg', './test/apple\\\\apple.68.jpg', './test/apple\\\\apple.69.jpg', './test/apple\\\\apple.7.jpg', './test/apple\\\\apple.70.jpg', './test/apple\\\\apple.71.jpg', './test/apple\\\\apple.72.jpg', './test/apple\\\\apple.73.jpg', './test/apple\\\\apple.74.jpg', './test/apple\\\\apple.75.jpg', './test/apple\\\\apple.76.jpg', './test/apple\\\\apple.77.jpg', './test/apple\\\\apple.78.jpg', './test/apple\\\\apple.79.jpg', './test/apple\\\\apple.8.jpg', './test/apple\\\\apple.80.jpg', './test/apple\\\\apple.81.jpg', './test/apple\\\\apple.82.jpg', './test/apple\\\\apple.83.jpg', './test/apple\\\\apple.84.jpg', './test/apple\\\\apple.85.jpg', './test/apple\\\\apple.86.jpg', './test/apple\\\\apple.87.jpg', './test/apple\\\\apple.88.jpg', './test/apple\\\\apple.89.jpg', './test/apple\\\\apple.9.jpg']\n"
     ]
    },
    {
     "ename": "FileExistsError",
     "evalue": "[WinError 183] 當檔案已存在時，無法建立該檔案。: './test/apple\\\\apple.10.jpg' -> './test/apple/apple.2.jpg'",
     "output_type": "error",
     "traceback": [
      "\u001b[1;31m---------------------------------------------------------------------------\u001b[0m",
      "\u001b[1;31mFileExistsError\u001b[0m                           Traceback (most recent call last)",
      "Cell \u001b[1;32mIn[61], line 12\u001b[0m\n\u001b[0;32m     10\u001b[0m n \u001b[39m=\u001b[39m \u001b[39m1\u001b[39m          \u001b[39m# 設定名稱從 1 開始\u001b[39;00m\n\u001b[0;32m     11\u001b[0m \u001b[39mfor\u001b[39;00m i \u001b[39min\u001b[39;00m images:\n\u001b[1;32m---> 12\u001b[0m     os\u001b[39m.\u001b[39;49mrename(i, \u001b[39mf\u001b[39;49m\u001b[39m'\u001b[39;49m\u001b[39m./test/apple/apple.\u001b[39;49m\u001b[39m{\u001b[39;49;00mn\u001b[39m}\u001b[39;49;00m\u001b[39m.jpg\u001b[39;49m\u001b[39m'\u001b[39;49m)   \u001b[39m# 改名時，使用字串格式化的方式進行三位數補零\u001b[39;00m\n\u001b[0;32m     13\u001b[0m     n \u001b[39m=\u001b[39m n \u001b[39m+\u001b[39m \u001b[39m1\u001b[39m    \u001b[39m# 每次重複時將 n 增加 \u001b[39;00m\n",
      "\u001b[1;31mFileExistsError\u001b[0m: [WinError 183] 當檔案已存在時，無法建立該檔案。: './test/apple\\\\apple.10.jpg' -> './test/apple/apple.2.jpg'"
     ]
    }
   ],
   "source": [
    "import os\n",
    "import glob\n",
    "data_dir = './test/apple/'\n",
    "all_img = sorted(os.listdir(data_dir))\n",
    "print(len(all_img))\n",
    "print(all_img[:5])\n",
    "print(all_img[-5:])\n",
    "images = glob.glob('./test/apple/*')\n",
    "print(images)\n",
    "n = 1          # 設定名稱從 1 開始\n",
    "for i in images:\n",
    "    os.rename(i, f'./test/apple/apple.{n}.jpg')   # 改名時，使用字串格式化的方式進行三位數補零\n",
    "    n = n + 1    # 每次重複時將 n 增加 "
   ]
  },
  {
   "cell_type": "code",
   "execution_count": 62,
   "metadata": {},
   "outputs": [
    {
     "name": "stdout",
     "output_type": "stream",
     "text": [
      "105\n",
      "['avocado.1.jpg', 'avocado.10.jpg', 'avocado.100.jpg', 'avocado.101.jpg', 'avocado.102.jpg']\n",
      "['avocado.95.jpg', 'avocado.96.jpg', 'avocado.97.jpg', 'avocado.98.jpg', 'avocado.99.jpg']\n",
      "['./test/avocado\\\\avocado.1.jpg', './test/avocado\\\\avocado.10.jpg', './test/avocado\\\\avocado.100.jpg', './test/avocado\\\\avocado.101.jpg', './test/avocado\\\\avocado.102.jpg', './test/avocado\\\\avocado.103.jpg', './test/avocado\\\\avocado.104.jpg', './test/avocado\\\\avocado.105.jpg', './test/avocado\\\\avocado.11.jpg', './test/avocado\\\\avocado.12.jpg', './test/avocado\\\\avocado.13.jpg', './test/avocado\\\\avocado.14.jpg', './test/avocado\\\\avocado.15.jpg', './test/avocado\\\\avocado.16.jpg', './test/avocado\\\\avocado.17.jpg', './test/avocado\\\\avocado.18.jpg', './test/avocado\\\\avocado.19.jpg', './test/avocado\\\\avocado.2.jpg', './test/avocado\\\\avocado.20.jpg', './test/avocado\\\\avocado.21.jpg', './test/avocado\\\\avocado.22.jpg', './test/avocado\\\\avocado.23.jpg', './test/avocado\\\\avocado.24.jpg', './test/avocado\\\\avocado.25.jpg', './test/avocado\\\\avocado.26.jpg', './test/avocado\\\\avocado.27.jpg', './test/avocado\\\\avocado.28.jpg', './test/avocado\\\\avocado.29.jpg', './test/avocado\\\\avocado.3.jpg', './test/avocado\\\\avocado.30.jpg', './test/avocado\\\\avocado.31.jpg', './test/avocado\\\\avocado.32.jpg', './test/avocado\\\\avocado.33.jpg', './test/avocado\\\\avocado.34.jpg', './test/avocado\\\\avocado.35.jpg', './test/avocado\\\\avocado.36.jpg', './test/avocado\\\\avocado.37.jpg', './test/avocado\\\\avocado.38.jpg', './test/avocado\\\\avocado.39.jpg', './test/avocado\\\\avocado.4.jpg', './test/avocado\\\\avocado.40.jpg', './test/avocado\\\\avocado.41.jpg', './test/avocado\\\\avocado.42.jpg', './test/avocado\\\\avocado.43.jpg', './test/avocado\\\\avocado.44.jpg', './test/avocado\\\\avocado.45.jpg', './test/avocado\\\\avocado.46.jpg', './test/avocado\\\\avocado.47.jpg', './test/avocado\\\\avocado.48.jpg', './test/avocado\\\\avocado.49.jpg', './test/avocado\\\\avocado.5.jpg', './test/avocado\\\\avocado.50.jpg', './test/avocado\\\\avocado.51.jpg', './test/avocado\\\\avocado.52.jpg', './test/avocado\\\\avocado.53.jpg', './test/avocado\\\\avocado.54.jpg', './test/avocado\\\\avocado.55.jpg', './test/avocado\\\\avocado.56.jpg', './test/avocado\\\\avocado.57.jpg', './test/avocado\\\\avocado.58.jpg', './test/avocado\\\\avocado.59.jpg', './test/avocado\\\\avocado.6.jpg', './test/avocado\\\\avocado.60.jpg', './test/avocado\\\\avocado.61.jpg', './test/avocado\\\\avocado.62.jpg', './test/avocado\\\\avocado.63.jpg', './test/avocado\\\\avocado.64.jpg', './test/avocado\\\\avocado.65.jpg', './test/avocado\\\\avocado.66.jpg', './test/avocado\\\\avocado.67.jpg', './test/avocado\\\\avocado.68.jpg', './test/avocado\\\\avocado.69.jpg', './test/avocado\\\\avocado.7.jpg', './test/avocado\\\\avocado.70.jpg', './test/avocado\\\\avocado.71.jpg', './test/avocado\\\\avocado.72.jpg', './test/avocado\\\\avocado.73.jpg', './test/avocado\\\\avocado.74.jpg', './test/avocado\\\\avocado.75.jpg', './test/avocado\\\\avocado.76.jpg', './test/avocado\\\\avocado.77.jpg', './test/avocado\\\\avocado.78.jpg', './test/avocado\\\\avocado.79.jpg', './test/avocado\\\\avocado.8.jpg', './test/avocado\\\\avocado.80.jpg', './test/avocado\\\\avocado.81.jpg', './test/avocado\\\\avocado.82.jpg', './test/avocado\\\\avocado.83.jpg', './test/avocado\\\\avocado.84.jpg', './test/avocado\\\\avocado.85.jpg', './test/avocado\\\\avocado.86.jpg', './test/avocado\\\\avocado.87.jpg', './test/avocado\\\\avocado.88.jpg', './test/avocado\\\\avocado.89.jpg', './test/avocado\\\\avocado.9.jpg', './test/avocado\\\\avocado.90.jpg', './test/avocado\\\\avocado.91.jpg', './test/avocado\\\\avocado.92.jpg', './test/avocado\\\\avocado.93.jpg', './test/avocado\\\\avocado.94.jpg', './test/avocado\\\\avocado.95.jpg', './test/avocado\\\\avocado.96.jpg', './test/avocado\\\\avocado.97.jpg', './test/avocado\\\\avocado.98.jpg', './test/avocado\\\\avocado.99.jpg']\n"
     ]
    },
    {
     "ename": "FileExistsError",
     "evalue": "[WinError 183] 當檔案已存在時，無法建立該檔案。: './test/avocado\\\\avocado.10.jpg' -> './test/avocado/avocado.2.jpg'",
     "output_type": "error",
     "traceback": [
      "\u001b[1;31m---------------------------------------------------------------------------\u001b[0m",
      "\u001b[1;31mFileExistsError\u001b[0m                           Traceback (most recent call last)",
      "Cell \u001b[1;32mIn[62], line 12\u001b[0m\n\u001b[0;32m     10\u001b[0m n \u001b[39m=\u001b[39m \u001b[39m1\u001b[39m          \u001b[39m# 設定名稱從 1 開始\u001b[39;00m\n\u001b[0;32m     11\u001b[0m \u001b[39mfor\u001b[39;00m i \u001b[39min\u001b[39;00m images:\n\u001b[1;32m---> 12\u001b[0m     os\u001b[39m.\u001b[39;49mrename(i, \u001b[39mf\u001b[39;49m\u001b[39m'\u001b[39;49m\u001b[39m./test/avocado/avocado.\u001b[39;49m\u001b[39m{\u001b[39;49;00mn\u001b[39m}\u001b[39;49;00m\u001b[39m.jpg\u001b[39;49m\u001b[39m'\u001b[39;49m)   \u001b[39m# 改名時，使用字串格式化的方式進行三位數補零\u001b[39;00m\n\u001b[0;32m     13\u001b[0m     n \u001b[39m=\u001b[39m n \u001b[39m+\u001b[39m \u001b[39m1\u001b[39m    \u001b[39m# 每次重複時將 n 增加 \u001b[39;00m\n",
      "\u001b[1;31mFileExistsError\u001b[0m: [WinError 183] 當檔案已存在時，無法建立該檔案。: './test/avocado\\\\avocado.10.jpg' -> './test/avocado/avocado.2.jpg'"
     ]
    }
   ],
   "source": [
    "import os\n",
    "import glob\n",
    "data_dir = './test/avocado/'\n",
    "all_img = sorted(os.listdir(data_dir))\n",
    "print(len(all_img))\n",
    "print(all_img[:5])\n",
    "print(all_img[-5:])\n",
    "images = glob.glob('./test/avocado/*')\n",
    "print(images)\n",
    "n = 1          # 設定名稱從 1 開始\n",
    "for i in images:\n",
    "    os.rename(i, f'./test/avocado/avocado.{n}.jpg')   # 改名時，使用字串格式化的方式進行三位數補零\n",
    "    n = n + 1    # 每次重複時將 n 增加 "
   ]
  },
  {
   "cell_type": "code",
   "execution_count": 63,
   "metadata": {},
   "outputs": [
    {
     "name": "stdout",
     "output_type": "stream",
     "text": [
      "105\n",
      "['cherry.1.jpg', 'cherry.10.jpg', 'cherry.100.jpg', 'cherry.101.jpg', 'cherry.102.jpg']\n",
      "['cherry.95.jpg', 'cherry.96.jpg', 'cherry.97.jpg', 'cherry.98.jpg', 'cherry.99.jpg']\n",
      "['./test/cherry\\\\cherry.1.jpg', './test/cherry\\\\cherry.10.jpg', './test/cherry\\\\cherry.100.jpg', './test/cherry\\\\cherry.101.jpg', './test/cherry\\\\cherry.102.jpg', './test/cherry\\\\cherry.103.jpg', './test/cherry\\\\cherry.104.jpg', './test/cherry\\\\cherry.105.jpg', './test/cherry\\\\cherry.11.jpg', './test/cherry\\\\cherry.12.jpg', './test/cherry\\\\cherry.13.jpg', './test/cherry\\\\cherry.14.jpg', './test/cherry\\\\cherry.15.jpg', './test/cherry\\\\cherry.16.jpg', './test/cherry\\\\cherry.17.jpg', './test/cherry\\\\cherry.18.jpg', './test/cherry\\\\cherry.19.jpg', './test/cherry\\\\cherry.2.jpg', './test/cherry\\\\cherry.20.jpg', './test/cherry\\\\cherry.21.jpg', './test/cherry\\\\cherry.22.jpg', './test/cherry\\\\cherry.23.jpg', './test/cherry\\\\cherry.24.jpg', './test/cherry\\\\cherry.25.jpg', './test/cherry\\\\cherry.26.jpg', './test/cherry\\\\cherry.27.jpg', './test/cherry\\\\cherry.28.jpg', './test/cherry\\\\cherry.29.jpg', './test/cherry\\\\cherry.3.jpg', './test/cherry\\\\cherry.30.jpg', './test/cherry\\\\cherry.31.jpg', './test/cherry\\\\cherry.32.jpg', './test/cherry\\\\cherry.33.jpg', './test/cherry\\\\cherry.34.jpg', './test/cherry\\\\cherry.35.jpg', './test/cherry\\\\cherry.36.jpg', './test/cherry\\\\cherry.37.jpg', './test/cherry\\\\cherry.38.jpg', './test/cherry\\\\cherry.39.jpg', './test/cherry\\\\cherry.4.jpg', './test/cherry\\\\cherry.40.jpg', './test/cherry\\\\cherry.41.jpg', './test/cherry\\\\cherry.42.jpg', './test/cherry\\\\cherry.43.jpg', './test/cherry\\\\cherry.44.jpg', './test/cherry\\\\cherry.45.jpg', './test/cherry\\\\cherry.46.jpg', './test/cherry\\\\cherry.47.jpg', './test/cherry\\\\cherry.48.jpg', './test/cherry\\\\cherry.49.jpg', './test/cherry\\\\cherry.5.jpg', './test/cherry\\\\cherry.50.jpg', './test/cherry\\\\cherry.51.jpg', './test/cherry\\\\cherry.52.jpg', './test/cherry\\\\cherry.53.jpg', './test/cherry\\\\cherry.54.jpg', './test/cherry\\\\cherry.55.jpg', './test/cherry\\\\cherry.56.jpg', './test/cherry\\\\cherry.57.jpg', './test/cherry\\\\cherry.58.jpg', './test/cherry\\\\cherry.59.jpg', './test/cherry\\\\cherry.6.jpg', './test/cherry\\\\cherry.60.jpg', './test/cherry\\\\cherry.61.jpg', './test/cherry\\\\cherry.62.jpg', './test/cherry\\\\cherry.63.jpg', './test/cherry\\\\cherry.64.jpg', './test/cherry\\\\cherry.65.jpg', './test/cherry\\\\cherry.66.jpg', './test/cherry\\\\cherry.67.jpg', './test/cherry\\\\cherry.68.jpg', './test/cherry\\\\cherry.69.jpg', './test/cherry\\\\cherry.7.jpg', './test/cherry\\\\cherry.70.jpg', './test/cherry\\\\cherry.71.jpg', './test/cherry\\\\cherry.72.jpg', './test/cherry\\\\cherry.73.jpg', './test/cherry\\\\cherry.74.jpg', './test/cherry\\\\cherry.75.jpg', './test/cherry\\\\cherry.76.jpg', './test/cherry\\\\cherry.77.jpg', './test/cherry\\\\cherry.78.jpg', './test/cherry\\\\cherry.79.jpg', './test/cherry\\\\cherry.8.jpg', './test/cherry\\\\cherry.80.jpg', './test/cherry\\\\cherry.81.jpg', './test/cherry\\\\cherry.82.jpg', './test/cherry\\\\cherry.83.jpg', './test/cherry\\\\cherry.84.jpg', './test/cherry\\\\cherry.85.jpg', './test/cherry\\\\cherry.86.jpg', './test/cherry\\\\cherry.87.jpg', './test/cherry\\\\cherry.88.jpg', './test/cherry\\\\cherry.89.jpg', './test/cherry\\\\cherry.9.jpg', './test/cherry\\\\cherry.90.jpg', './test/cherry\\\\cherry.91.jpg', './test/cherry\\\\cherry.92.jpg', './test/cherry\\\\cherry.93.jpg', './test/cherry\\\\cherry.94.jpg', './test/cherry\\\\cherry.95.jpg', './test/cherry\\\\cherry.96.jpg', './test/cherry\\\\cherry.97.jpg', './test/cherry\\\\cherry.98.jpg', './test/cherry\\\\cherry.99.jpg']\n"
     ]
    },
    {
     "ename": "FileExistsError",
     "evalue": "[WinError 183] 當檔案已存在時，無法建立該檔案。: './test/cherry\\\\cherry.10.jpg' -> './test/cherry/cherry.2.jpg'",
     "output_type": "error",
     "traceback": [
      "\u001b[1;31m---------------------------------------------------------------------------\u001b[0m",
      "\u001b[1;31mFileExistsError\u001b[0m                           Traceback (most recent call last)",
      "Cell \u001b[1;32mIn[63], line 12\u001b[0m\n\u001b[0;32m     10\u001b[0m n \u001b[39m=\u001b[39m \u001b[39m1\u001b[39m          \u001b[39m# 設定名稱從 1 開始\u001b[39;00m\n\u001b[0;32m     11\u001b[0m \u001b[39mfor\u001b[39;00m i \u001b[39min\u001b[39;00m images:\n\u001b[1;32m---> 12\u001b[0m     os\u001b[39m.\u001b[39;49mrename(i, \u001b[39mf\u001b[39;49m\u001b[39m'\u001b[39;49m\u001b[39m./test/cherry/cherry.\u001b[39;49m\u001b[39m{\u001b[39;49;00mn\u001b[39m}\u001b[39;49;00m\u001b[39m.jpg\u001b[39;49m\u001b[39m'\u001b[39;49m)   \u001b[39m# 改名時，使用字串格式化的方式進行三位數補零\u001b[39;00m\n\u001b[0;32m     13\u001b[0m     n \u001b[39m=\u001b[39m n \u001b[39m+\u001b[39m \u001b[39m1\u001b[39m    \u001b[39m# 每次重複時將 n 增加 \u001b[39;00m\n",
      "\u001b[1;31mFileExistsError\u001b[0m: [WinError 183] 當檔案已存在時，無法建立該檔案。: './test/cherry\\\\cherry.10.jpg' -> './test/cherry/cherry.2.jpg'"
     ]
    }
   ],
   "source": [
    "import os\n",
    "import glob\n",
    "data_dir = './test/cherry/'\n",
    "all_img = sorted(os.listdir(data_dir))\n",
    "print(len(all_img))\n",
    "print(all_img[:5])\n",
    "print(all_img[-5:])\n",
    "images = glob.glob('./test/cherry/*')\n",
    "print(images)\n",
    "n = 1          # 設定名稱從 1 開始\n",
    "for i in images:\n",
    "    os.rename(i, f'./test/cherry/cherry.{n}.jpg')   # 改名時，使用字串格式化的方式進行三位數補零\n",
    "    n = n + 1    # 每次重複時將 n 增加 "
   ]
  },
  {
   "cell_type": "code",
   "execution_count": 64,
   "metadata": {},
   "outputs": [
    {
     "name": "stdout",
     "output_type": "stream",
     "text": [
      "105\n",
      "['kiwi.1.jpg', 'kiwi.10.jpg', 'kiwi.100.jpg', 'kiwi.101.jpg', 'kiwi.102.jpg']\n",
      "['kiwi.95.jpg', 'kiwi.96.jpg', 'kiwi.97.jpg', 'kiwi.98.jpg', 'kiwi.99.jpg']\n",
      "['./test/kiwi\\\\kiwi.1.jpg', './test/kiwi\\\\kiwi.10.jpg', './test/kiwi\\\\kiwi.100.jpg', './test/kiwi\\\\kiwi.101.jpg', './test/kiwi\\\\kiwi.102.jpg', './test/kiwi\\\\kiwi.103.jpg', './test/kiwi\\\\kiwi.104.jpg', './test/kiwi\\\\kiwi.105.jpg', './test/kiwi\\\\kiwi.11.jpg', './test/kiwi\\\\kiwi.12.jpg', './test/kiwi\\\\kiwi.13.jpg', './test/kiwi\\\\kiwi.14.jpg', './test/kiwi\\\\kiwi.15.jpg', './test/kiwi\\\\kiwi.16.jpg', './test/kiwi\\\\kiwi.17.jpg', './test/kiwi\\\\kiwi.18.jpg', './test/kiwi\\\\kiwi.19.jpg', './test/kiwi\\\\kiwi.2.jpg', './test/kiwi\\\\kiwi.20.jpg', './test/kiwi\\\\kiwi.21.jpg', './test/kiwi\\\\kiwi.22.jpg', './test/kiwi\\\\kiwi.23.jpg', './test/kiwi\\\\kiwi.24.jpg', './test/kiwi\\\\kiwi.25.jpg', './test/kiwi\\\\kiwi.26.jpg', './test/kiwi\\\\kiwi.27.jpg', './test/kiwi\\\\kiwi.28.jpg', './test/kiwi\\\\kiwi.29.jpg', './test/kiwi\\\\kiwi.3.jpg', './test/kiwi\\\\kiwi.30.jpg', './test/kiwi\\\\kiwi.31.jpg', './test/kiwi\\\\kiwi.32.jpg', './test/kiwi\\\\kiwi.33.jpg', './test/kiwi\\\\kiwi.34.jpg', './test/kiwi\\\\kiwi.35.jpg', './test/kiwi\\\\kiwi.36.jpg', './test/kiwi\\\\kiwi.37.jpg', './test/kiwi\\\\kiwi.38.jpg', './test/kiwi\\\\kiwi.39.jpg', './test/kiwi\\\\kiwi.4.jpg', './test/kiwi\\\\kiwi.40.jpg', './test/kiwi\\\\kiwi.41.jpg', './test/kiwi\\\\kiwi.42.jpg', './test/kiwi\\\\kiwi.43.jpg', './test/kiwi\\\\kiwi.44.jpg', './test/kiwi\\\\kiwi.45.jpg', './test/kiwi\\\\kiwi.46.jpg', './test/kiwi\\\\kiwi.47.jpg', './test/kiwi\\\\kiwi.48.jpg', './test/kiwi\\\\kiwi.49.jpg', './test/kiwi\\\\kiwi.5.jpg', './test/kiwi\\\\kiwi.50.jpg', './test/kiwi\\\\kiwi.51.jpg', './test/kiwi\\\\kiwi.52.jpg', './test/kiwi\\\\kiwi.53.jpg', './test/kiwi\\\\kiwi.54.jpg', './test/kiwi\\\\kiwi.55.jpg', './test/kiwi\\\\kiwi.56.jpg', './test/kiwi\\\\kiwi.57.jpg', './test/kiwi\\\\kiwi.58.jpg', './test/kiwi\\\\kiwi.59.jpg', './test/kiwi\\\\kiwi.6.jpg', './test/kiwi\\\\kiwi.60.jpg', './test/kiwi\\\\kiwi.61.jpg', './test/kiwi\\\\kiwi.62.jpg', './test/kiwi\\\\kiwi.63.jpg', './test/kiwi\\\\kiwi.64.jpg', './test/kiwi\\\\kiwi.65.jpg', './test/kiwi\\\\kiwi.66.jpg', './test/kiwi\\\\kiwi.67.jpg', './test/kiwi\\\\kiwi.68.jpg', './test/kiwi\\\\kiwi.69.jpg', './test/kiwi\\\\kiwi.7.jpg', './test/kiwi\\\\kiwi.70.jpg', './test/kiwi\\\\kiwi.71.jpg', './test/kiwi\\\\kiwi.72.jpg', './test/kiwi\\\\kiwi.73.jpg', './test/kiwi\\\\kiwi.74.jpg', './test/kiwi\\\\kiwi.75.jpg', './test/kiwi\\\\kiwi.76.jpg', './test/kiwi\\\\kiwi.77.jpg', './test/kiwi\\\\kiwi.78.jpg', './test/kiwi\\\\kiwi.79.jpg', './test/kiwi\\\\kiwi.8.jpg', './test/kiwi\\\\kiwi.80.jpg', './test/kiwi\\\\kiwi.81.jpg', './test/kiwi\\\\kiwi.82.jpg', './test/kiwi\\\\kiwi.83.jpg', './test/kiwi\\\\kiwi.84.jpg', './test/kiwi\\\\kiwi.85.jpg', './test/kiwi\\\\kiwi.86.jpg', './test/kiwi\\\\kiwi.87.jpg', './test/kiwi\\\\kiwi.88.jpg', './test/kiwi\\\\kiwi.89.jpg', './test/kiwi\\\\kiwi.9.jpg', './test/kiwi\\\\kiwi.90.jpg', './test/kiwi\\\\kiwi.91.jpg', './test/kiwi\\\\kiwi.92.jpg', './test/kiwi\\\\kiwi.93.jpg', './test/kiwi\\\\kiwi.94.jpg', './test/kiwi\\\\kiwi.95.jpg', './test/kiwi\\\\kiwi.96.jpg', './test/kiwi\\\\kiwi.97.jpg', './test/kiwi\\\\kiwi.98.jpg', './test/kiwi\\\\kiwi.99.jpg']\n"
     ]
    },
    {
     "ename": "FileExistsError",
     "evalue": "[WinError 183] 當檔案已存在時，無法建立該檔案。: './test/kiwi\\\\kiwi.10.jpg' -> './test/kiwi/kiwi.2.jpg'",
     "output_type": "error",
     "traceback": [
      "\u001b[1;31m---------------------------------------------------------------------------\u001b[0m",
      "\u001b[1;31mFileExistsError\u001b[0m                           Traceback (most recent call last)",
      "Cell \u001b[1;32mIn[64], line 12\u001b[0m\n\u001b[0;32m     10\u001b[0m n \u001b[39m=\u001b[39m \u001b[39m1\u001b[39m          \u001b[39m# 設定名稱從 1 開始\u001b[39;00m\n\u001b[0;32m     11\u001b[0m \u001b[39mfor\u001b[39;00m i \u001b[39min\u001b[39;00m images:\n\u001b[1;32m---> 12\u001b[0m     os\u001b[39m.\u001b[39;49mrename(i, \u001b[39mf\u001b[39;49m\u001b[39m'\u001b[39;49m\u001b[39m./test/kiwi/kiwi.\u001b[39;49m\u001b[39m{\u001b[39;49;00mn\u001b[39m}\u001b[39;49;00m\u001b[39m.jpg\u001b[39;49m\u001b[39m'\u001b[39;49m)   \u001b[39m# 改名時，使用字串格式化的方式進行三位數補零\u001b[39;00m\n\u001b[0;32m     13\u001b[0m     n \u001b[39m=\u001b[39m n \u001b[39m+\u001b[39m \u001b[39m1\u001b[39m    \u001b[39m# 每次重複時將 n 增加 \u001b[39;00m\n",
      "\u001b[1;31mFileExistsError\u001b[0m: [WinError 183] 當檔案已存在時，無法建立該檔案。: './test/kiwi\\\\kiwi.10.jpg' -> './test/kiwi/kiwi.2.jpg'"
     ]
    }
   ],
   "source": [
    "import os\n",
    "import glob\n",
    "data_dir = './test/kiwi/'\n",
    "all_img = sorted(os.listdir(data_dir))\n",
    "print(len(all_img))\n",
    "print(all_img[:5])\n",
    "print(all_img[-5:])\n",
    "images = glob.glob('./test/kiwi/*')\n",
    "print(images)\n",
    "n = 1          # 設定名稱從 1 開始\n",
    "for i in images:\n",
    "    os.rename(i, f'./test/kiwi/kiwi.{n}.jpg')   # 改名時，使用字串格式化的方式進行三位數補零\n",
    "    n = n + 1    # 每次重複時將 n 增加 "
   ]
  },
  {
   "cell_type": "code",
   "execution_count": 65,
   "metadata": {},
   "outputs": [
    {
     "name": "stdout",
     "output_type": "stream",
     "text": [
      "105\n",
      "['mango.1.jpg', 'mango.10.jpg', 'mango.100.jpg', 'mango.101.jpg', 'mango.102.jpg']\n",
      "['mango.95.jpg', 'mango.96.jpg', 'mango.97.jpg', 'mango.98.jpg', 'mango.99.jpg']\n",
      "['./test/mango\\\\mango.1.jpg', './test/mango\\\\mango.10.jpg', './test/mango\\\\mango.100.jpg', './test/mango\\\\mango.101.jpg', './test/mango\\\\mango.102.jpg', './test/mango\\\\mango.103.jpg', './test/mango\\\\mango.104.jpg', './test/mango\\\\mango.105.jpg', './test/mango\\\\mango.11.jpg', './test/mango\\\\mango.12.jpg', './test/mango\\\\mango.13.jpg', './test/mango\\\\mango.14.jpg', './test/mango\\\\mango.15.jpg', './test/mango\\\\mango.16.jpg', './test/mango\\\\mango.17.jpg', './test/mango\\\\mango.18.jpg', './test/mango\\\\mango.19.jpg', './test/mango\\\\mango.2.jpg', './test/mango\\\\mango.20.jpg', './test/mango\\\\mango.21.jpg', './test/mango\\\\mango.22.jpg', './test/mango\\\\mango.23.jpg', './test/mango\\\\mango.24.jpg', './test/mango\\\\mango.25.jpg', './test/mango\\\\mango.26.jpg', './test/mango\\\\mango.27.jpg', './test/mango\\\\mango.28.jpg', './test/mango\\\\mango.29.jpg', './test/mango\\\\mango.3.jpg', './test/mango\\\\mango.30.jpg', './test/mango\\\\mango.31.jpg', './test/mango\\\\mango.32.jpg', './test/mango\\\\mango.33.jpg', './test/mango\\\\mango.34.jpg', './test/mango\\\\mango.35.jpg', './test/mango\\\\mango.36.jpg', './test/mango\\\\mango.37.jpg', './test/mango\\\\mango.38.jpg', './test/mango\\\\mango.39.jpg', './test/mango\\\\mango.4.jpg', './test/mango\\\\mango.40.jpg', './test/mango\\\\mango.41.jpg', './test/mango\\\\mango.42.jpg', './test/mango\\\\mango.43.jpg', './test/mango\\\\mango.44.jpg', './test/mango\\\\mango.45.jpg', './test/mango\\\\mango.46.jpg', './test/mango\\\\mango.47.jpg', './test/mango\\\\mango.48.jpg', './test/mango\\\\mango.49.jpg', './test/mango\\\\mango.5.jpg', './test/mango\\\\mango.50.jpg', './test/mango\\\\mango.51.jpg', './test/mango\\\\mango.52.jpg', './test/mango\\\\mango.53.jpg', './test/mango\\\\mango.54.jpg', './test/mango\\\\mango.55.jpg', './test/mango\\\\mango.56.jpg', './test/mango\\\\mango.57.jpg', './test/mango\\\\mango.58.jpg', './test/mango\\\\mango.59.jpg', './test/mango\\\\mango.6.jpg', './test/mango\\\\mango.60.jpg', './test/mango\\\\mango.61.jpg', './test/mango\\\\mango.62.jpg', './test/mango\\\\mango.63.jpg', './test/mango\\\\mango.64.jpg', './test/mango\\\\mango.65.jpg', './test/mango\\\\mango.66.jpg', './test/mango\\\\mango.67.jpg', './test/mango\\\\mango.68.jpg', './test/mango\\\\mango.69.jpg', './test/mango\\\\mango.7.jpg', './test/mango\\\\mango.70.jpg', './test/mango\\\\mango.71.jpg', './test/mango\\\\mango.72.jpg', './test/mango\\\\mango.73.jpg', './test/mango\\\\mango.74.jpg', './test/mango\\\\mango.75.jpg', './test/mango\\\\mango.76.jpg', './test/mango\\\\mango.77.jpg', './test/mango\\\\mango.78.jpg', './test/mango\\\\mango.79.jpg', './test/mango\\\\mango.8.jpg', './test/mango\\\\mango.80.jpg', './test/mango\\\\mango.81.jpg', './test/mango\\\\mango.82.jpg', './test/mango\\\\mango.83.jpg', './test/mango\\\\mango.84.jpg', './test/mango\\\\mango.85.jpg', './test/mango\\\\mango.86.jpg', './test/mango\\\\mango.87.jpg', './test/mango\\\\mango.88.jpg', './test/mango\\\\mango.89.jpg', './test/mango\\\\mango.9.jpg', './test/mango\\\\mango.90.jpg', './test/mango\\\\mango.91.jpg', './test/mango\\\\mango.92.jpg', './test/mango\\\\mango.93.jpg', './test/mango\\\\mango.94.jpg', './test/mango\\\\mango.95.jpg', './test/mango\\\\mango.96.jpg', './test/mango\\\\mango.97.jpg', './test/mango\\\\mango.98.jpg', './test/mango\\\\mango.99.jpg']\n"
     ]
    },
    {
     "ename": "FileExistsError",
     "evalue": "[WinError 183] 當檔案已存在時，無法建立該檔案。: './test/mango\\\\mango.10.jpg' -> './test/mango/mango.2.jpg'",
     "output_type": "error",
     "traceback": [
      "\u001b[1;31m---------------------------------------------------------------------------\u001b[0m",
      "\u001b[1;31mFileExistsError\u001b[0m                           Traceback (most recent call last)",
      "Cell \u001b[1;32mIn[65], line 12\u001b[0m\n\u001b[0;32m     10\u001b[0m n \u001b[39m=\u001b[39m \u001b[39m1\u001b[39m          \u001b[39m# 設定名稱從 1 開始\u001b[39;00m\n\u001b[0;32m     11\u001b[0m \u001b[39mfor\u001b[39;00m i \u001b[39min\u001b[39;00m images:\n\u001b[1;32m---> 12\u001b[0m     os\u001b[39m.\u001b[39;49mrename(i, \u001b[39mf\u001b[39;49m\u001b[39m'\u001b[39;49m\u001b[39m./test/mango/mango.\u001b[39;49m\u001b[39m{\u001b[39;49;00mn\u001b[39m}\u001b[39;49;00m\u001b[39m.jpg\u001b[39;49m\u001b[39m'\u001b[39;49m)   \u001b[39m# 改名時，使用字串格式化的方式進行三位數補零\u001b[39;00m\n\u001b[0;32m     13\u001b[0m     n \u001b[39m=\u001b[39m n \u001b[39m+\u001b[39m \u001b[39m1\u001b[39m    \u001b[39m# 每次重複時將 n 增加 \u001b[39;00m\n",
      "\u001b[1;31mFileExistsError\u001b[0m: [WinError 183] 當檔案已存在時，無法建立該檔案。: './test/mango\\\\mango.10.jpg' -> './test/mango/mango.2.jpg'"
     ]
    }
   ],
   "source": [
    "import os\n",
    "import glob\n",
    "data_dir = './test/mango/'\n",
    "all_img = sorted(os.listdir(data_dir))\n",
    "print(len(all_img))\n",
    "print(all_img[:5])\n",
    "print(all_img[-5:])\n",
    "images = glob.glob('./test/mango/*')\n",
    "print(images)\n",
    "n = 1          # 設定名稱從 1 開始\n",
    "for i in images:\n",
    "    os.rename(i, f'./test/mango/mango.{n}.jpg')   # 改名時，使用字串格式化的方式進行三位數補零\n",
    "    n = n + 1    # 每次重複時將 n 增加 "
   ]
  },
  {
   "cell_type": "code",
   "execution_count": 66,
   "metadata": {},
   "outputs": [
    {
     "name": "stdout",
     "output_type": "stream",
     "text": [
      "97\n",
      "['orange.1.jpg', 'orange.10.jpg', 'orange.11.jpg', 'orange.12.jpg', 'orange.13.jpg']\n",
      "['orange.93.jpg', 'orange.94.jpg', 'orange.95.jpg', 'orange.96.jpg', 'orange.97.jpg']\n",
      "['./test/orange\\\\orange.1.jpg', './test/orange\\\\orange.10.jpg', './test/orange\\\\orange.11.jpg', './test/orange\\\\orange.12.jpg', './test/orange\\\\orange.13.jpg', './test/orange\\\\orange.14.jpg', './test/orange\\\\orange.15.jpg', './test/orange\\\\orange.16.jpg', './test/orange\\\\orange.17.jpg', './test/orange\\\\orange.18.jpg', './test/orange\\\\orange.19.jpg', './test/orange\\\\orange.2.jpg', './test/orange\\\\orange.20.jpg', './test/orange\\\\orange.21.jpg', './test/orange\\\\orange.22.jpg', './test/orange\\\\orange.23.jpg', './test/orange\\\\orange.24.jpg', './test/orange\\\\orange.25.jpg', './test/orange\\\\orange.26.jpg', './test/orange\\\\orange.27.jpg', './test/orange\\\\orange.28.jpg', './test/orange\\\\orange.29.jpg', './test/orange\\\\orange.3.jpg', './test/orange\\\\orange.30.jpg', './test/orange\\\\orange.31.jpg', './test/orange\\\\orange.32.jpg', './test/orange\\\\orange.33.jpg', './test/orange\\\\orange.34.jpg', './test/orange\\\\orange.35.jpg', './test/orange\\\\orange.36.jpg', './test/orange\\\\orange.37.jpg', './test/orange\\\\orange.38.jpg', './test/orange\\\\orange.39.jpg', './test/orange\\\\orange.4.jpg', './test/orange\\\\orange.40.jpg', './test/orange\\\\orange.41.jpg', './test/orange\\\\orange.42.jpg', './test/orange\\\\orange.43.jpg', './test/orange\\\\orange.44.jpg', './test/orange\\\\orange.45.jpg', './test/orange\\\\orange.46.jpg', './test/orange\\\\orange.47.jpg', './test/orange\\\\orange.48.jpg', './test/orange\\\\orange.49.jpg', './test/orange\\\\orange.5.jpg', './test/orange\\\\orange.50.jpg', './test/orange\\\\orange.51.jpg', './test/orange\\\\orange.52.jpg', './test/orange\\\\orange.53.jpg', './test/orange\\\\orange.54.jpg', './test/orange\\\\orange.55.jpg', './test/orange\\\\orange.56.jpg', './test/orange\\\\orange.57.jpg', './test/orange\\\\orange.58.jpg', './test/orange\\\\orange.59.jpg', './test/orange\\\\orange.6.jpg', './test/orange\\\\orange.60.jpg', './test/orange\\\\orange.61.jpg', './test/orange\\\\orange.62.jpg', './test/orange\\\\orange.63.jpg', './test/orange\\\\orange.64.jpg', './test/orange\\\\orange.65.jpg', './test/orange\\\\orange.66.jpg', './test/orange\\\\orange.67.jpg', './test/orange\\\\orange.68.jpg', './test/orange\\\\orange.69.jpg', './test/orange\\\\orange.7.jpg', './test/orange\\\\orange.70.jpg', './test/orange\\\\orange.71.jpg', './test/orange\\\\orange.72.jpg', './test/orange\\\\orange.73.jpg', './test/orange\\\\orange.74.jpg', './test/orange\\\\orange.75.jpg', './test/orange\\\\orange.76.jpg', './test/orange\\\\orange.77.jpg', './test/orange\\\\orange.78.jpg', './test/orange\\\\orange.79.jpg', './test/orange\\\\orange.8.jpg', './test/orange\\\\orange.80.jpg', './test/orange\\\\orange.81.jpg', './test/orange\\\\orange.82.jpg', './test/orange\\\\orange.83.jpg', './test/orange\\\\orange.84.jpg', './test/orange\\\\orange.85.jpg', './test/orange\\\\orange.86.jpg', './test/orange\\\\orange.87.jpg', './test/orange\\\\orange.88.jpg', './test/orange\\\\orange.89.jpg', './test/orange\\\\orange.9.jpg', './test/orange\\\\orange.90.jpg', './test/orange\\\\orange.91.jpg', './test/orange\\\\orange.92.jpg', './test/orange\\\\orange.93.jpg', './test/orange\\\\orange.94.jpg', './test/orange\\\\orange.95.jpg', './test/orange\\\\orange.96.jpg', './test/orange\\\\orange.97.jpg']\n"
     ]
    },
    {
     "ename": "FileExistsError",
     "evalue": "[WinError 183] 當檔案已存在時，無法建立該檔案。: './test/orange\\\\orange.10.jpg' -> './test/orange/orange.2.jpg'",
     "output_type": "error",
     "traceback": [
      "\u001b[1;31m---------------------------------------------------------------------------\u001b[0m",
      "\u001b[1;31mFileExistsError\u001b[0m                           Traceback (most recent call last)",
      "Cell \u001b[1;32mIn[66], line 12\u001b[0m\n\u001b[0;32m     10\u001b[0m n \u001b[39m=\u001b[39m \u001b[39m1\u001b[39m          \u001b[39m# 設定名稱從 1 開始\u001b[39;00m\n\u001b[0;32m     11\u001b[0m \u001b[39mfor\u001b[39;00m i \u001b[39min\u001b[39;00m images:\n\u001b[1;32m---> 12\u001b[0m     os\u001b[39m.\u001b[39;49mrename(i, \u001b[39mf\u001b[39;49m\u001b[39m'\u001b[39;49m\u001b[39m./test/orange/orange.\u001b[39;49m\u001b[39m{\u001b[39;49;00mn\u001b[39m}\u001b[39;49;00m\u001b[39m.jpg\u001b[39;49m\u001b[39m'\u001b[39;49m)   \u001b[39m# 改名時，使用字串格式化的方式進行三位數補零\u001b[39;00m\n\u001b[0;32m     13\u001b[0m     n \u001b[39m=\u001b[39m n \u001b[39m+\u001b[39m \u001b[39m1\u001b[39m    \u001b[39m# 每次重複時將 n 增加 \u001b[39;00m\n",
      "\u001b[1;31mFileExistsError\u001b[0m: [WinError 183] 當檔案已存在時，無法建立該檔案。: './test/orange\\\\orange.10.jpg' -> './test/orange/orange.2.jpg'"
     ]
    }
   ],
   "source": [
    "import os\n",
    "import glob\n",
    "data_dir = './test/orange/'\n",
    "all_img = sorted(os.listdir(data_dir))\n",
    "print(len(all_img))\n",
    "print(all_img[:5])\n",
    "print(all_img[-5:])\n",
    "images = glob.glob('./test/orange/*')\n",
    "print(images)\n",
    "n = 1          # 設定名稱從 1 開始\n",
    "for i in images:\n",
    "    os.rename(i, f'./test/orange/orange.{n}.jpg')   # 改名時，使用字串格式化的方式進行三位數補零\n",
    "    n = n + 1    # 每次重複時將 n 增加 "
   ]
  },
  {
   "cell_type": "code",
   "execution_count": 67,
   "metadata": {},
   "outputs": [
    {
     "name": "stdout",
     "output_type": "stream",
     "text": [
      "105\n",
      "['pinenapple.1.jpg', 'pinenapple.10.jpg', 'pinenapple.100.jpg', 'pinenapple.101.jpg', 'pinenapple.102.jpg']\n",
      "['pinenapple.95.jpg', 'pinenapple.96.jpg', 'pinenapple.97.jpg', 'pinenapple.98.jpg', 'pinenapple.99.jpg']\n",
      "['./test/pinenapple\\\\pinenapple.1.jpg', './test/pinenapple\\\\pinenapple.10.jpg', './test/pinenapple\\\\pinenapple.100.jpg', './test/pinenapple\\\\pinenapple.101.jpg', './test/pinenapple\\\\pinenapple.102.jpg', './test/pinenapple\\\\pinenapple.103.jpg', './test/pinenapple\\\\pinenapple.104.jpg', './test/pinenapple\\\\pinenapple.105.jpg', './test/pinenapple\\\\pinenapple.11.jpg', './test/pinenapple\\\\pinenapple.12.jpg', './test/pinenapple\\\\pinenapple.13.jpg', './test/pinenapple\\\\pinenapple.14.jpg', './test/pinenapple\\\\pinenapple.15.jpg', './test/pinenapple\\\\pinenapple.16.jpg', './test/pinenapple\\\\pinenapple.17.jpg', './test/pinenapple\\\\pinenapple.18.jpg', './test/pinenapple\\\\pinenapple.19.jpg', './test/pinenapple\\\\pinenapple.2.jpg', './test/pinenapple\\\\pinenapple.20.jpg', './test/pinenapple\\\\pinenapple.21.jpg', './test/pinenapple\\\\pinenapple.22.jpg', './test/pinenapple\\\\pinenapple.23.jpg', './test/pinenapple\\\\pinenapple.24.jpg', './test/pinenapple\\\\pinenapple.25.jpg', './test/pinenapple\\\\pinenapple.26.jpg', './test/pinenapple\\\\pinenapple.27.jpg', './test/pinenapple\\\\pinenapple.28.jpg', './test/pinenapple\\\\pinenapple.29.jpg', './test/pinenapple\\\\pinenapple.3.jpg', './test/pinenapple\\\\pinenapple.30.jpg', './test/pinenapple\\\\pinenapple.31.jpg', './test/pinenapple\\\\pinenapple.32.jpg', './test/pinenapple\\\\pinenapple.33.jpg', './test/pinenapple\\\\pinenapple.34.jpg', './test/pinenapple\\\\pinenapple.35.jpg', './test/pinenapple\\\\pinenapple.36.jpg', './test/pinenapple\\\\pinenapple.37.jpg', './test/pinenapple\\\\pinenapple.38.jpg', './test/pinenapple\\\\pinenapple.39.jpg', './test/pinenapple\\\\pinenapple.4.jpg', './test/pinenapple\\\\pinenapple.40.jpg', './test/pinenapple\\\\pinenapple.41.jpg', './test/pinenapple\\\\pinenapple.42.jpg', './test/pinenapple\\\\pinenapple.43.jpg', './test/pinenapple\\\\pinenapple.44.jpg', './test/pinenapple\\\\pinenapple.45.jpg', './test/pinenapple\\\\pinenapple.46.jpg', './test/pinenapple\\\\pinenapple.47.jpg', './test/pinenapple\\\\pinenapple.48.jpg', './test/pinenapple\\\\pinenapple.49.jpg', './test/pinenapple\\\\pinenapple.5.jpg', './test/pinenapple\\\\pinenapple.50.jpg', './test/pinenapple\\\\pinenapple.51.jpg', './test/pinenapple\\\\pinenapple.52.jpg', './test/pinenapple\\\\pinenapple.53.jpg', './test/pinenapple\\\\pinenapple.54.jpg', './test/pinenapple\\\\pinenapple.55.jpg', './test/pinenapple\\\\pinenapple.56.jpg', './test/pinenapple\\\\pinenapple.57.jpg', './test/pinenapple\\\\pinenapple.58.jpg', './test/pinenapple\\\\pinenapple.59.jpg', './test/pinenapple\\\\pinenapple.6.jpg', './test/pinenapple\\\\pinenapple.60.jpg', './test/pinenapple\\\\pinenapple.61.jpg', './test/pinenapple\\\\pinenapple.62.jpg', './test/pinenapple\\\\pinenapple.63.jpg', './test/pinenapple\\\\pinenapple.64.jpg', './test/pinenapple\\\\pinenapple.65.jpg', './test/pinenapple\\\\pinenapple.66.jpg', './test/pinenapple\\\\pinenapple.67.jpg', './test/pinenapple\\\\pinenapple.68.jpg', './test/pinenapple\\\\pinenapple.69.jpg', './test/pinenapple\\\\pinenapple.7.jpg', './test/pinenapple\\\\pinenapple.70.jpg', './test/pinenapple\\\\pinenapple.71.jpg', './test/pinenapple\\\\pinenapple.72.jpg', './test/pinenapple\\\\pinenapple.73.jpg', './test/pinenapple\\\\pinenapple.74.jpg', './test/pinenapple\\\\pinenapple.75.jpg', './test/pinenapple\\\\pinenapple.76.jpg', './test/pinenapple\\\\pinenapple.77.jpg', './test/pinenapple\\\\pinenapple.78.jpg', './test/pinenapple\\\\pinenapple.79.jpg', './test/pinenapple\\\\pinenapple.8.jpg', './test/pinenapple\\\\pinenapple.80.jpg', './test/pinenapple\\\\pinenapple.81.jpg', './test/pinenapple\\\\pinenapple.82.jpg', './test/pinenapple\\\\pinenapple.83.jpg', './test/pinenapple\\\\pinenapple.84.jpg', './test/pinenapple\\\\pinenapple.85.jpg', './test/pinenapple\\\\pinenapple.86.jpg', './test/pinenapple\\\\pinenapple.87.jpg', './test/pinenapple\\\\pinenapple.88.jpg', './test/pinenapple\\\\pinenapple.89.jpg', './test/pinenapple\\\\pinenapple.9.jpg', './test/pinenapple\\\\pinenapple.90.jpg', './test/pinenapple\\\\pinenapple.91.jpg', './test/pinenapple\\\\pinenapple.92.jpg', './test/pinenapple\\\\pinenapple.93.jpg', './test/pinenapple\\\\pinenapple.94.jpg', './test/pinenapple\\\\pinenapple.95.jpg', './test/pinenapple\\\\pinenapple.96.jpg', './test/pinenapple\\\\pinenapple.97.jpg', './test/pinenapple\\\\pinenapple.98.jpg', './test/pinenapple\\\\pinenapple.99.jpg']\n"
     ]
    },
    {
     "ename": "FileExistsError",
     "evalue": "[WinError 183] 當檔案已存在時，無法建立該檔案。: './test/pinenapple\\\\pinenapple.10.jpg' -> './test/pinenapple/pinenapple.2.jpg'",
     "output_type": "error",
     "traceback": [
      "\u001b[1;31m---------------------------------------------------------------------------\u001b[0m",
      "\u001b[1;31mFileExistsError\u001b[0m                           Traceback (most recent call last)",
      "Cell \u001b[1;32mIn[67], line 12\u001b[0m\n\u001b[0;32m     10\u001b[0m n \u001b[39m=\u001b[39m \u001b[39m1\u001b[39m          \u001b[39m# 設定名稱從 1 開始\u001b[39;00m\n\u001b[0;32m     11\u001b[0m \u001b[39mfor\u001b[39;00m i \u001b[39min\u001b[39;00m images:\n\u001b[1;32m---> 12\u001b[0m     os\u001b[39m.\u001b[39;49mrename(i, \u001b[39mf\u001b[39;49m\u001b[39m'\u001b[39;49m\u001b[39m./test/pinenapple/pinenapple.\u001b[39;49m\u001b[39m{\u001b[39;49;00mn\u001b[39m}\u001b[39;49;00m\u001b[39m.jpg\u001b[39;49m\u001b[39m'\u001b[39;49m)   \u001b[39m# 改名時，使用字串格式化的方式進行三位數補零\u001b[39;00m\n\u001b[0;32m     13\u001b[0m     n \u001b[39m=\u001b[39m n \u001b[39m+\u001b[39m \u001b[39m1\u001b[39m    \u001b[39m# 每次重複時將 n 增加 \u001b[39;00m\n",
      "\u001b[1;31mFileExistsError\u001b[0m: [WinError 183] 當檔案已存在時，無法建立該檔案。: './test/pinenapple\\\\pinenapple.10.jpg' -> './test/pinenapple/pinenapple.2.jpg'"
     ]
    }
   ],
   "source": [
    "import os\n",
    "import glob\n",
    "data_dir = './test/pinenapple/'\n",
    "all_img = sorted(os.listdir(data_dir))\n",
    "print(len(all_img))\n",
    "print(all_img[:5])\n",
    "print(all_img[-5:])\n",
    "images = glob.glob('./test/pinenapple/*')\n",
    "print(images)\n",
    "n = 1          # 設定名稱從 1 開始\n",
    "for i in images:\n",
    "    os.rename(i, f'./test/pinenapple/pinenapple.{n}.jpg')   # 改名時，使用字串格式化的方式進行三位數補零\n",
    "    n = n + 1    # 每次重複時將 n 增加 "
   ]
  },
  {
   "cell_type": "code",
   "execution_count": 68,
   "metadata": {},
   "outputs": [
    {
     "name": "stdout",
     "output_type": "stream",
     "text": [
      "103\n",
      "['strawberries.1.jpg', 'strawberries.10.jpg', 'strawberries.100.jpg', 'strawberries.101.jpg', 'strawberries.102.jpg']\n",
      "['strawberries.95.jpg', 'strawberries.96.jpg', 'strawberries.97.jpg', 'strawberries.98.jpg', 'strawberries.99.jpg']\n",
      "['./test/stawberries\\\\strawberries.1.jpg', './test/stawberries\\\\strawberries.10.jpg', './test/stawberries\\\\strawberries.100.jpg', './test/stawberries\\\\strawberries.101.jpg', './test/stawberries\\\\strawberries.102.jpg', './test/stawberries\\\\strawberries.103.jpg', './test/stawberries\\\\strawberries.11.jpg', './test/stawberries\\\\strawberries.12.jpg', './test/stawberries\\\\strawberries.13.jpg', './test/stawberries\\\\strawberries.14.jpg', './test/stawberries\\\\strawberries.15.jpg', './test/stawberries\\\\strawberries.16.jpg', './test/stawberries\\\\strawberries.17.jpg', './test/stawberries\\\\strawberries.18.jpg', './test/stawberries\\\\strawberries.19.jpg', './test/stawberries\\\\strawberries.2.jpg', './test/stawberries\\\\strawberries.20.jpg', './test/stawberries\\\\strawberries.21.jpg', './test/stawberries\\\\strawberries.22.jpg', './test/stawberries\\\\strawberries.23.jpg', './test/stawberries\\\\strawberries.24.jpg', './test/stawberries\\\\strawberries.25.jpg', './test/stawberries\\\\strawberries.26.jpg', './test/stawberries\\\\strawberries.27.jpg', './test/stawberries\\\\strawberries.28.jpg', './test/stawberries\\\\strawberries.29.jpg', './test/stawberries\\\\strawberries.3.jpg', './test/stawberries\\\\strawberries.30.jpg', './test/stawberries\\\\strawberries.31.jpg', './test/stawberries\\\\strawberries.32.jpg', './test/stawberries\\\\strawberries.33.jpg', './test/stawberries\\\\strawberries.34.jpg', './test/stawberries\\\\strawberries.35.jpg', './test/stawberries\\\\strawberries.36.jpg', './test/stawberries\\\\strawberries.37.jpg', './test/stawberries\\\\strawberries.38.jpg', './test/stawberries\\\\strawberries.39.jpg', './test/stawberries\\\\strawberries.4.jpg', './test/stawberries\\\\strawberries.40.jpg', './test/stawberries\\\\strawberries.41.jpg', './test/stawberries\\\\strawberries.42.jpg', './test/stawberries\\\\strawberries.43.jpg', './test/stawberries\\\\strawberries.44.jpg', './test/stawberries\\\\strawberries.45.jpg', './test/stawberries\\\\strawberries.46.jpg', './test/stawberries\\\\strawberries.47.jpg', './test/stawberries\\\\strawberries.48.jpg', './test/stawberries\\\\strawberries.49.jpg', './test/stawberries\\\\strawberries.5.jpg', './test/stawberries\\\\strawberries.50.jpg', './test/stawberries\\\\strawberries.51.jpg', './test/stawberries\\\\strawberries.52.jpg', './test/stawberries\\\\strawberries.53.jpg', './test/stawberries\\\\strawberries.54.jpg', './test/stawberries\\\\strawberries.55.jpg', './test/stawberries\\\\strawberries.56.jpg', './test/stawberries\\\\strawberries.57.jpg', './test/stawberries\\\\strawberries.58.jpg', './test/stawberries\\\\strawberries.59.jpg', './test/stawberries\\\\strawberries.6.jpg', './test/stawberries\\\\strawberries.60.jpg', './test/stawberries\\\\strawberries.61.jpg', './test/stawberries\\\\strawberries.62.jpg', './test/stawberries\\\\strawberries.63.jpg', './test/stawberries\\\\strawberries.64.jpg', './test/stawberries\\\\strawberries.65.jpg', './test/stawberries\\\\strawberries.66.jpg', './test/stawberries\\\\strawberries.67.jpg', './test/stawberries\\\\strawberries.68.jpg', './test/stawberries\\\\strawberries.69.jpg', './test/stawberries\\\\strawberries.7.jpg', './test/stawberries\\\\strawberries.70.jpg', './test/stawberries\\\\strawberries.71.jpg', './test/stawberries\\\\strawberries.72.jpg', './test/stawberries\\\\strawberries.73.jpg', './test/stawberries\\\\strawberries.74.jpg', './test/stawberries\\\\strawberries.75.jpg', './test/stawberries\\\\strawberries.76.jpg', './test/stawberries\\\\strawberries.77.jpg', './test/stawberries\\\\strawberries.78.jpg', './test/stawberries\\\\strawberries.79.jpg', './test/stawberries\\\\strawberries.8.jpg', './test/stawberries\\\\strawberries.80.jpg', './test/stawberries\\\\strawberries.81.jpg', './test/stawberries\\\\strawberries.82.jpg', './test/stawberries\\\\strawberries.83.jpg', './test/stawberries\\\\strawberries.84.jpg', './test/stawberries\\\\strawberries.85.jpg', './test/stawberries\\\\strawberries.86.jpg', './test/stawberries\\\\strawberries.87.jpg', './test/stawberries\\\\strawberries.88.jpg', './test/stawberries\\\\strawberries.89.jpg', './test/stawberries\\\\strawberries.9.jpg', './test/stawberries\\\\strawberries.90.jpg', './test/stawberries\\\\strawberries.91.jpg', './test/stawberries\\\\strawberries.92.jpg', './test/stawberries\\\\strawberries.93.jpg', './test/stawberries\\\\strawberries.94.jpg', './test/stawberries\\\\strawberries.95.jpg', './test/stawberries\\\\strawberries.96.jpg', './test/stawberries\\\\strawberries.97.jpg', './test/stawberries\\\\strawberries.98.jpg', './test/stawberries\\\\strawberries.99.jpg']\n"
     ]
    },
    {
     "ename": "FileExistsError",
     "evalue": "[WinError 183] 當檔案已存在時，無法建立該檔案。: './test/stawberries\\\\strawberries.10.jpg' -> './test/stawberries/strawberries.2.jpg'",
     "output_type": "error",
     "traceback": [
      "\u001b[1;31m---------------------------------------------------------------------------\u001b[0m",
      "\u001b[1;31mFileExistsError\u001b[0m                           Traceback (most recent call last)",
      "Cell \u001b[1;32mIn[68], line 12\u001b[0m\n\u001b[0;32m     10\u001b[0m n \u001b[39m=\u001b[39m \u001b[39m1\u001b[39m          \u001b[39m# 設定名稱從 1 開始\u001b[39;00m\n\u001b[0;32m     11\u001b[0m \u001b[39mfor\u001b[39;00m i \u001b[39min\u001b[39;00m images:\n\u001b[1;32m---> 12\u001b[0m     os\u001b[39m.\u001b[39;49mrename(i, \u001b[39mf\u001b[39;49m\u001b[39m'\u001b[39;49m\u001b[39m./test/stawberries/strawberries.\u001b[39;49m\u001b[39m{\u001b[39;49;00mn\u001b[39m}\u001b[39;49;00m\u001b[39m.jpg\u001b[39;49m\u001b[39m'\u001b[39;49m)   \u001b[39m# 改名時，使用字串格式化的方式進行三位數補零\u001b[39;00m\n\u001b[0;32m     13\u001b[0m     n \u001b[39m=\u001b[39m n \u001b[39m+\u001b[39m \u001b[39m1\u001b[39m    \u001b[39m# 每次重複時將 n 增加 \u001b[39;00m\n",
      "\u001b[1;31mFileExistsError\u001b[0m: [WinError 183] 當檔案已存在時，無法建立該檔案。: './test/stawberries\\\\strawberries.10.jpg' -> './test/stawberries/strawberries.2.jpg'"
     ]
    }
   ],
   "source": [
    "import os\n",
    "import glob\n",
    "data_dir = './test/stawberries/'\n",
    "all_img = sorted(os.listdir(data_dir))\n",
    "print(len(all_img))\n",
    "print(all_img[:5])\n",
    "print(all_img[-5:])\n",
    "images = glob.glob('./test/stawberries/*')\n",
    "print(images)\n",
    "n = 1          # 設定名稱從 1 開始\n",
    "for i in images:\n",
    "    os.rename(i, f'./test/stawberries/strawberries.{n}.jpg')   # 改名時，使用字串格式化的方式進行三位數補零\n",
    "    n = n + 1    # 每次重複時將 n 增加 "
   ]
  },
  {
   "cell_type": "code",
   "execution_count": 69,
   "metadata": {},
   "outputs": [
    {
     "name": "stdout",
     "output_type": "stream",
     "text": [
      "105\n",
      "['watermelon.1.jpg', 'watermelon.10.jpg', 'watermelon.100.jpg', 'watermelon.101.jpg', 'watermelon.102.jpg']\n",
      "['watermelon.95.jpg', 'watermelon.96.jpg', 'watermelon.97.jpg', 'watermelon.98.jpg', 'watermelon.99.jpg']\n",
      "['./test/watermelon\\\\watermelon.1.jpg', './test/watermelon\\\\watermelon.10.jpg', './test/watermelon\\\\watermelon.100.jpg', './test/watermelon\\\\watermelon.101.jpg', './test/watermelon\\\\watermelon.102.jpg', './test/watermelon\\\\watermelon.103.jpg', './test/watermelon\\\\watermelon.104.jpg', './test/watermelon\\\\watermelon.105.jpg', './test/watermelon\\\\watermelon.11.jpg', './test/watermelon\\\\watermelon.12.jpg', './test/watermelon\\\\watermelon.13.jpg', './test/watermelon\\\\watermelon.14.jpg', './test/watermelon\\\\watermelon.15.jpg', './test/watermelon\\\\watermelon.16.jpg', './test/watermelon\\\\watermelon.17.jpg', './test/watermelon\\\\watermelon.18.jpg', './test/watermelon\\\\watermelon.19.jpg', './test/watermelon\\\\watermelon.2.jpg', './test/watermelon\\\\watermelon.20.jpg', './test/watermelon\\\\watermelon.21.jpg', './test/watermelon\\\\watermelon.22.jpg', './test/watermelon\\\\watermelon.23.jpg', './test/watermelon\\\\watermelon.24.jpg', './test/watermelon\\\\watermelon.25.jpg', './test/watermelon\\\\watermelon.26.jpg', './test/watermelon\\\\watermelon.27.jpg', './test/watermelon\\\\watermelon.28.jpg', './test/watermelon\\\\watermelon.29.jpg', './test/watermelon\\\\watermelon.3.jpg', './test/watermelon\\\\watermelon.30.jpg', './test/watermelon\\\\watermelon.31.jpg', './test/watermelon\\\\watermelon.32.jpg', './test/watermelon\\\\watermelon.33.jpg', './test/watermelon\\\\watermelon.34.jpg', './test/watermelon\\\\watermelon.35.jpg', './test/watermelon\\\\watermelon.36.jpg', './test/watermelon\\\\watermelon.37.jpg', './test/watermelon\\\\watermelon.38.jpg', './test/watermelon\\\\watermelon.39.jpg', './test/watermelon\\\\watermelon.4.jpg', './test/watermelon\\\\watermelon.40.jpg', './test/watermelon\\\\watermelon.41.jpg', './test/watermelon\\\\watermelon.42.jpg', './test/watermelon\\\\watermelon.43.jpg', './test/watermelon\\\\watermelon.44.jpg', './test/watermelon\\\\watermelon.45.jpg', './test/watermelon\\\\watermelon.46.jpg', './test/watermelon\\\\watermelon.47.jpg', './test/watermelon\\\\watermelon.48.jpg', './test/watermelon\\\\watermelon.49.jpg', './test/watermelon\\\\watermelon.5.jpg', './test/watermelon\\\\watermelon.50.jpg', './test/watermelon\\\\watermelon.51.jpg', './test/watermelon\\\\watermelon.52.jpg', './test/watermelon\\\\watermelon.53.jpg', './test/watermelon\\\\watermelon.54.jpg', './test/watermelon\\\\watermelon.55.jpg', './test/watermelon\\\\watermelon.56.jpg', './test/watermelon\\\\watermelon.57.jpg', './test/watermelon\\\\watermelon.58.jpg', './test/watermelon\\\\watermelon.59.jpg', './test/watermelon\\\\watermelon.6.jpg', './test/watermelon\\\\watermelon.60.jpg', './test/watermelon\\\\watermelon.61.jpg', './test/watermelon\\\\watermelon.62.jpg', './test/watermelon\\\\watermelon.63.jpg', './test/watermelon\\\\watermelon.64.jpg', './test/watermelon\\\\watermelon.65.jpg', './test/watermelon\\\\watermelon.66.jpg', './test/watermelon\\\\watermelon.67.jpg', './test/watermelon\\\\watermelon.68.jpg', './test/watermelon\\\\watermelon.69.jpg', './test/watermelon\\\\watermelon.7.jpg', './test/watermelon\\\\watermelon.70.jpg', './test/watermelon\\\\watermelon.71.jpg', './test/watermelon\\\\watermelon.72.jpg', './test/watermelon\\\\watermelon.73.jpg', './test/watermelon\\\\watermelon.74.jpg', './test/watermelon\\\\watermelon.75.jpg', './test/watermelon\\\\watermelon.76.jpg', './test/watermelon\\\\watermelon.77.jpg', './test/watermelon\\\\watermelon.78.jpg', './test/watermelon\\\\watermelon.79.jpg', './test/watermelon\\\\watermelon.8.jpg', './test/watermelon\\\\watermelon.80.jpg', './test/watermelon\\\\watermelon.81.jpg', './test/watermelon\\\\watermelon.82.jpg', './test/watermelon\\\\watermelon.83.jpg', './test/watermelon\\\\watermelon.84.jpg', './test/watermelon\\\\watermelon.85.jpg', './test/watermelon\\\\watermelon.86.jpg', './test/watermelon\\\\watermelon.87.jpg', './test/watermelon\\\\watermelon.88.jpg', './test/watermelon\\\\watermelon.89.jpg', './test/watermelon\\\\watermelon.9.jpg', './test/watermelon\\\\watermelon.90.jpg', './test/watermelon\\\\watermelon.91.jpg', './test/watermelon\\\\watermelon.92.jpg', './test/watermelon\\\\watermelon.93.jpg', './test/watermelon\\\\watermelon.94.jpg', './test/watermelon\\\\watermelon.95.jpg', './test/watermelon\\\\watermelon.96.jpg', './test/watermelon\\\\watermelon.97.jpg', './test/watermelon\\\\watermelon.98.jpg', './test/watermelon\\\\watermelon.99.jpg']\n"
     ]
    },
    {
     "ename": "FileExistsError",
     "evalue": "[WinError 183] 當檔案已存在時，無法建立該檔案。: './test/watermelon\\\\watermelon.10.jpg' -> './test/watermelon/watermelon.2.jpg'",
     "output_type": "error",
     "traceback": [
      "\u001b[1;31m---------------------------------------------------------------------------\u001b[0m",
      "\u001b[1;31mFileExistsError\u001b[0m                           Traceback (most recent call last)",
      "Cell \u001b[1;32mIn[69], line 12\u001b[0m\n\u001b[0;32m     10\u001b[0m n \u001b[39m=\u001b[39m \u001b[39m1\u001b[39m          \u001b[39m# 設定名稱從 1 開始\u001b[39;00m\n\u001b[0;32m     11\u001b[0m \u001b[39mfor\u001b[39;00m i \u001b[39min\u001b[39;00m images:\n\u001b[1;32m---> 12\u001b[0m     os\u001b[39m.\u001b[39;49mrename(i, \u001b[39mf\u001b[39;49m\u001b[39m'\u001b[39;49m\u001b[39m./test/watermelon/watermelon.\u001b[39;49m\u001b[39m{\u001b[39;49;00mn\u001b[39m}\u001b[39;49;00m\u001b[39m.jpg\u001b[39;49m\u001b[39m'\u001b[39;49m)   \u001b[39m# 改名時，使用字串格式化的方式進行三位數補零\u001b[39;00m\n\u001b[0;32m     13\u001b[0m     n \u001b[39m=\u001b[39m n \u001b[39m+\u001b[39m \u001b[39m1\u001b[39m    \u001b[39m# 每次重複時將 n 增加 \u001b[39;00m\n",
      "\u001b[1;31mFileExistsError\u001b[0m: [WinError 183] 當檔案已存在時，無法建立該檔案。: './test/watermelon\\\\watermelon.10.jpg' -> './test/watermelon/watermelon.2.jpg'"
     ]
    }
   ],
   "source": [
    "import os\n",
    "import glob\n",
    "data_dir = './test/watermelon/'\n",
    "all_img = sorted(os.listdir(data_dir))\n",
    "print(len(all_img))\n",
    "print(all_img[:5])\n",
    "print(all_img[-5:])\n",
    "images = glob.glob('./test/watermelon/*')\n",
    "print(images)\n",
    "n = 1          # 設定名稱從 1 開始\n",
    "for i in images:\n",
    "    os.rename(i, f'./test/watermelon/watermelon.{n}.jpg')   # 改名時，使用字串格式化的方式進行三位數補零\n",
    "    n = n + 1    # 每次重複時將 n 增加 "
   ]
  }
 ],
 "metadata": {
  "kernelspec": {
   "display_name": "Python 3",
   "language": "python",
   "name": "python3"
  },
  "language_info": {
   "codemirror_mode": {
    "name": "ipython",
    "version": 3
   },
   "file_extension": ".py",
   "mimetype": "text/x-python",
   "name": "python",
   "nbconvert_exporter": "python",
   "pygments_lexer": "ipython3",
   "version": "3.11.0"
  },
  "orig_nbformat": 4
 },
 "nbformat": 4,
 "nbformat_minor": 2
}
